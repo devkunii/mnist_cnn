{
 "cells": [
  {
   "cell_type": "markdown",
   "metadata": {},
   "source": [
    "00 Jupyter Notebook チュートリアル\n",
    "============================="
   ]
  },
  {
   "cell_type": "markdown",
   "metadata": {},
   "source": [
    "## Jupyter Notebookの使い方\n",
    "\n",
    "以下の領域を、`セル`と呼びます\n",
    "\n",
    "![セル](./images/セル.png)\n",
    "\n",
    "コードを記述して、`ctrl`+`Enter`を実行すると、セルの部分に`1`という数字が入り、コードが実行されます\n",
    "\n",
    "![セルの実行](./images/セルの実行.png)"
   ]
  },
  {
   "cell_type": "markdown",
   "metadata": {},
   "source": [
    "> 以下のセルに入っているコードを実行してみましょう！"
   ]
  },
  {
   "cell_type": "code",
   "execution_count": 1,
   "metadata": {},
   "outputs": [
    {
     "name": "stdout",
     "output_type": "stream",
     "text": [
      "Hello, World!!\n"
     ]
    }
   ],
   "source": [
    "print('Hello, World!!')"
   ]
  },
  {
   "cell_type": "markdown",
   "metadata": {},
   "source": [
    "***"
   ]
  },
  {
   "cell_type": "markdown",
   "metadata": {},
   "source": [
    "## Jupyter Notebookを閉じる\n",
    "\n",
    "Jupyter Notebookを閉じるには、以下の順番で閉じてください\n",
    "\n",
    "1. ブラウザ上部のタブの`File`をクリックしてください\n",
    "\n",
    "<img src=\"./images/close_1.png\" width=\"800\">\n",
    "\n",
    "2. ドロップダウンで表示されるので、その中の`Close and Halt`をクリックしてください\n",
    "\n",
    "<img src=\"./images/close_2.png\" width=\"100\">\n",
    "\n",
    "3. クリックすることで、閉じることが出来ます"
   ]
  }
 ],
 "metadata": {
  "kernelspec": {
   "display_name": "Python 3",
   "language": "python",
   "name": "python3"
  },
  "language_info": {
   "codemirror_mode": {
    "name": "ipython",
    "version": 3
   },
   "file_extension": ".py",
   "mimetype": "text/x-python",
   "name": "python",
   "nbconvert_exporter": "python",
   "pygments_lexer": "ipython3",
   "version": "3.6.5"
  }
 },
 "nbformat": 4,
 "nbformat_minor": 2
}
